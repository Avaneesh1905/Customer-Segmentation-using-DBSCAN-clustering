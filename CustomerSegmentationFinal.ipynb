{
  "nbformat": 4,
  "nbformat_minor": 0,
  "metadata": {
    "colab": {
      "provenance": []
    },
    "kernelspec": {
      "name": "python3",
      "display_name": "Python 3"
    },
    "language_info": {
      "name": "python"
    }
  },
  "cells": [
    {
      "cell_type": "markdown",
      "source": [
        "Installing the UMAP library"
      ],
      "metadata": {
        "id": "BiDnjF1xuyhZ"
      }
    },
    {
      "cell_type": "code",
      "source": [
        "pip install umap-learn"
      ],
      "metadata": {
        "colab": {
          "base_uri": "https://localhost:8080/"
        },
        "id": "9UvKesewuy8t",
        "outputId": "98cdb8b3-6bcf-4ada-b9d8-26b6605113df"
      },
      "execution_count": 1,
      "outputs": [
        {
          "output_type": "stream",
          "name": "stdout",
          "text": [
            "Collecting umap-learn\n",
            "  Downloading umap_learn-0.5.6-py3-none-any.whl.metadata (21 kB)\n",
            "Requirement already satisfied: numpy>=1.17 in /usr/local/lib/python3.10/dist-packages (from umap-learn) (1.26.4)\n",
            "Requirement already satisfied: scipy>=1.3.1 in /usr/local/lib/python3.10/dist-packages (from umap-learn) (1.13.1)\n",
            "Requirement already satisfied: scikit-learn>=0.22 in /usr/local/lib/python3.10/dist-packages (from umap-learn) (1.5.2)\n",
            "Requirement already satisfied: numba>=0.51.2 in /usr/local/lib/python3.10/dist-packages (from umap-learn) (0.60.0)\n",
            "Collecting pynndescent>=0.5 (from umap-learn)\n",
            "  Downloading pynndescent-0.5.13-py3-none-any.whl.metadata (6.8 kB)\n",
            "Requirement already satisfied: tqdm in /usr/local/lib/python3.10/dist-packages (from umap-learn) (4.66.5)\n",
            "Requirement already satisfied: llvmlite<0.44,>=0.43.0dev0 in /usr/local/lib/python3.10/dist-packages (from numba>=0.51.2->umap-learn) (0.43.0)\n",
            "Requirement already satisfied: joblib>=0.11 in /usr/local/lib/python3.10/dist-packages (from pynndescent>=0.5->umap-learn) (1.4.2)\n",
            "Requirement already satisfied: threadpoolctl>=3.1.0 in /usr/local/lib/python3.10/dist-packages (from scikit-learn>=0.22->umap-learn) (3.5.0)\n",
            "Downloading umap_learn-0.5.6-py3-none-any.whl (85 kB)\n",
            "\u001b[2K   \u001b[90m━━━━━━━━━━━━━━━━━━━━━━━━━━━━━━━━━━━━━━━━\u001b[0m \u001b[32m85.7/85.7 kB\u001b[0m \u001b[31m4.4 MB/s\u001b[0m eta \u001b[36m0:00:00\u001b[0m\n",
            "\u001b[?25hDownloading pynndescent-0.5.13-py3-none-any.whl (56 kB)\n",
            "\u001b[2K   \u001b[90m━━━━━━━━━━━━━━━━━━━━━━━━━━━━━━━━━━━━━━━━\u001b[0m \u001b[32m56.9/56.9 kB\u001b[0m \u001b[31m4.0 MB/s\u001b[0m eta \u001b[36m0:00:00\u001b[0m\n",
            "\u001b[?25hInstalling collected packages: pynndescent, umap-learn\n",
            "Successfully installed pynndescent-0.5.13 umap-learn-0.5.6\n"
          ]
        }
      ]
    },
    {
      "cell_type": "markdown",
      "source": [
        "Importing the libraries"
      ],
      "metadata": {
        "id": "QU-UMxqTpxWJ"
      }
    },
    {
      "cell_type": "code",
      "source": [
        "import pandas as pd\n",
        "from sklearn.preprocessing import StandardScaler, OneHotEncoder\n",
        "from sklearn.decomposition import PCA\n",
        "from sklearn.cluster import DBSCAN\n",
        "import umap\n",
        "import matplotlib.pyplot as plt\n",
        "import seaborn as sns\n",
        "from sklearn.metrics import silhouette_score, calinski_harabasz_score, davies_bouldin_score"
      ],
      "metadata": {
        "id": "QXACwh2Up2FB"
      },
      "execution_count": 2,
      "outputs": []
    },
    {
      "cell_type": "markdown",
      "source": [
        "Load and preprocess the dataset"
      ],
      "metadata": {
        "id": "SIfSlZZ8rTQa"
      }
    },
    {
      "cell_type": "code",
      "source": [
        "data = pd.read_csv('ecommerce_diaspora_large_dataset (2).csv')"
      ],
      "metadata": {
        "id": "WfBg_Gpzr8OF"
      },
      "execution_count": 3,
      "outputs": []
    },
    {
      "cell_type": "markdown",
      "source": [
        "One-Hot Encoding for categorical features excluding Gender and Age"
      ],
      "metadata": {
        "id": "VPYmKrqpsEyt"
      }
    },
    {
      "cell_type": "code",
      "source": [
        "categorical_features = ['Country', 'Seasonal_Occasion', 'Product_Category']\n",
        "onehot = OneHotEncoder(sparse_output=False)\n",
        "X_categorical = onehot.fit_transform(data[categorical_features])"
      ],
      "metadata": {
        "id": "-hGXTgfYsb49"
      },
      "execution_count": 5,
      "outputs": []
    },
    {
      "cell_type": "markdown",
      "source": [
        "Convert categorical feature names to strings"
      ],
      "metadata": {
        "id": "nMp2YqwosgAi"
      }
    },
    {
      "cell_type": "code",
      "source": [
        "categorical_feature_names = onehot.get_feature_names_out(categorical_features)\n",
        "X_categorical_df = pd.DataFrame(X_categorical, columns=categorical_feature_names)"
      ],
      "metadata": {
        "id": "R6cple3bsj82"
      },
      "execution_count": 6,
      "outputs": []
    },
    {
      "cell_type": "markdown",
      "source": [
        "Selecting numerical features"
      ],
      "metadata": {
        "id": "mvxNelTzsnkl"
      }
    },
    {
      "cell_type": "code",
      "source": [
        "numerical_features = ['Purchase_Frequency', 'Rating']\n",
        "X_numerical = data[numerical_features]"
      ],
      "metadata": {
        "id": "M3NrPS31sxhe"
      },
      "execution_count": 7,
      "outputs": []
    },
    {
      "cell_type": "markdown",
      "source": [
        "Combine numerical and categorical features before scaling"
      ],
      "metadata": {
        "id": "Omp1IZ72s3dB"
      }
    },
    {
      "cell_type": "code",
      "source": [
        "X_combined = pd.concat([X_numerical, X_categorical_df], axis=1)"
      ],
      "metadata": {
        "id": "MN_p6oJwtJAG"
      },
      "execution_count": 8,
      "outputs": []
    },
    {
      "cell_type": "markdown",
      "source": [
        "Scaling the combined features"
      ],
      "metadata": {
        "id": "an-XXOZ3tKn0"
      }
    },
    {
      "cell_type": "code",
      "source": [
        "scaler = StandardScaler()\n",
        "X_scaled = scaler.fit_transform(X_combined)"
      ],
      "metadata": {
        "id": "bkoO4zc4tUmL"
      },
      "execution_count": 9,
      "outputs": []
    },
    {
      "cell_type": "markdown",
      "source": [
        "Dimensionality reduction with UMAP"
      ],
      "metadata": {
        "id": "q5kFKWgDtb1S"
      }
    },
    {
      "cell_type": "code",
      "source": [
        "umap_model = umap.UMAP(n_neighbors=22, min_dist=0.07, n_components=2, random_state=42)\n",
        "X_umap = umap_model.fit_transform(X_scaled)"
      ],
      "metadata": {
        "colab": {
          "base_uri": "https://localhost:8080/"
        },
        "id": "kdFsgkDmtgKW",
        "outputId": "19207335-e6a8-4127-aa56-e3c15a400b29"
      },
      "execution_count": 10,
      "outputs": [
        {
          "output_type": "stream",
          "name": "stderr",
          "text": [
            "/usr/local/lib/python3.10/dist-packages/umap/umap_.py:1945: UserWarning: n_jobs value 1 overridden to 1 by setting random_state. Use no seed for parallelism.\n",
            "  warn(f\"n_jobs value {self.n_jobs} overridden to 1 by setting random_state. Use no seed for parallelism.\")\n"
          ]
        }
      ]
    },
    {
      "cell_type": "markdown",
      "source": [
        "DBSCAN Clustering with optimized parameters"
      ],
      "metadata": {
        "id": "fGYibHL9tjdw"
      }
    },
    {
      "cell_type": "code",
      "source": [
        "dbscan = DBSCAN(eps=0.33, min_samples=22)\n",
        "clusters_dbscan = dbscan.fit_predict(X_umap)\n",
        "data['Cluster_DBSCAN'] = clusters_dbscan"
      ],
      "metadata": {
        "id": "QraX48Tltm7w"
      },
      "execution_count": 11,
      "outputs": []
    },
    {
      "cell_type": "markdown",
      "source": [
        "Save the dataset with cluster labels"
      ],
      "metadata": {
        "id": "pgiuQ-QitqIa"
      }
    },
    {
      "cell_type": "code",
      "source": [
        "data.to_csv('ecommerce_diaspora_clustered_data.csv', index=False)"
      ],
      "metadata": {
        "id": "GQ53CPOdtteI"
      },
      "execution_count": 12,
      "outputs": []
    },
    {
      "cell_type": "markdown",
      "source": [
        "Visualizing clusters using a scatter plot"
      ],
      "metadata": {
        "id": "olmxyr2dtyAe"
      }
    },
    {
      "cell_type": "code",
      "source": [
        "plt.figure(figsize=(12, 8))\n",
        "sns.scatterplot(x=X_umap[:, 0], y=X_umap[:, 1], hue=clusters_dbscan, palette='Set1', s=100, legend='full')\n",
        "plt.title('DBSCAN Clustering Results')\n",
        "plt.xlabel('UMAP Component 1')\n",
        "plt.ylabel('UMAP Component 2')\n",
        "plt.legend(title='Cluster')\n",
        "plt.show()"
      ],
      "metadata": {
        "colab": {
          "base_uri": "https://localhost:8080/",
          "height": 718
        },
        "id": "YSHJt51yt1qR",
        "outputId": "0696a26d-4e3c-4a68-e0b8-5d04d01b35d6"
      },
      "execution_count": 13,
      "outputs": [
        {
          "output_type": "display_data",
          "data": {
            "text/plain": [
              "<Figure size 1200x800 with 1 Axes>"
            ],
            "image/png": "[encoded data removed]"
          },
          "metadata": {}
        }
      ]
    },
    {
      "cell_type": "markdown",
      "source": [
        "Filter out noise points for metric calculation"
      ],
      "metadata": {
        "id": "-SOVmsGTt5fk"
      }
    },
    {
      "cell_type": "code",
      "source": [
        "mask = clusters_dbscan != -1\n",
        "X_umap_filtered = X_umap[mask]\n",
        "clusters_dbscan_filtered = clusters_dbscan[mask]"
      ],
      "metadata": {
        "id": "vkxBU3REt9kJ"
      },
      "execution_count": 14,
      "outputs": []
    },
    {
      "cell_type": "markdown",
      "source": [
        "Calculate metrics (for non-noise points only)"
      ],
      "metadata": {
        "id": "-iNZ0gSZuDAl"
      }
    },
    {
      "cell_type": "code",
      "source": [
        "if len(set(clusters_dbscan_filtered)) > 1:  # Ensure there is more than one cluster\n",
        "    silhouette_avg_dbscan = silhouette_score(X_umap_filtered, clusters_dbscan_filtered)\n",
        "    calinski_harabasz_dbscan = calinski_harabasz_score(X_umap_filtered, clusters_dbscan_filtered)\n",
        "    davies_bouldin_dbscan = davies_bouldin_score(X_umap_filtered, clusters_dbscan_filtered)\n",
        "\n",
        "    print(f'Silhouette Score for DBSCAN: {silhouette_avg_dbscan:.2f}')\n",
        "    print(f'Calinski-Harabasz Index for DBSCAN: {calinski_harabasz_dbscan:.2f}')\n",
        "    print(f'Davies-Bouldin Index for DBSCAN: {davies_bouldin_dbscan:.2f}')\n",
        "else:\n",
        "    print(\"Not enough clusters for meaningful evaluation.\")"
      ],
      "metadata": {
        "colab": {
          "base_uri": "https://localhost:8080/"
        },
        "id": "339bBv6KuGPr",
        "outputId": "b6f28fb8-d295-45d6-f843-6805d5de1584"
      },
      "execution_count": 15,
      "outputs": [
        {
          "output_type": "stream",
          "name": "stdout",
          "text": [
            "Silhouette Score for DBSCAN: 0.96\n",
            "Calinski-Harabasz Index for DBSCAN: 201746.53\n",
            "Davies-Bouldin Index for DBSCAN: 0.05\n"
          ]
        }
      ]
    },
    {
      "cell_type": "markdown",
      "source": [
        "Load the clustered dataset"
      ],
      "metadata": {
        "id": "G-y44cyfuKb-"
      }
    },
    {
      "cell_type": "code",
      "source": [
        "clustered_data = pd.read_csv('ecommerce_diaspora_clustered_data.csv')"
      ],
      "metadata": {
        "id": "GYHP8MISuPYi"
      },
      "execution_count": 16,
      "outputs": []
    },
    {
      "cell_type": "markdown",
      "source": [
        "Analyze cluster contents"
      ],
      "metadata": {
        "id": "vbsRCgtduTbS"
      }
    },
    {
      "cell_type": "code",
      "execution_count": 17,
      "metadata": {
        "id": "NJ4WhCq5T2dv",
        "colab": {
          "base_uri": "https://localhost:8080/"
        },
        "outputId": "add98e9e-c376-48dc-92b8-156d29ee00de"
      },
      "outputs": [
        {
          "output_type": "stream",
          "name": "stdout",
          "text": [
            "Cluster 0 contains 45 data points\n",
            "Mean values for features in Cluster 0:\n",
            "Purchase_Frequency    5.27\n",
            "Rating                3.81\n",
            "dtype: float64\n",
            "Purchase Category distribution in Cluster 0:\n",
            "Product_Category\n",
            "Bandhanwars    45\n",
            "Name: count, dtype: int64\n",
            "\n",
            "\n",
            "Cluster 1 contains 37 data points\n",
            "Mean values for features in Cluster 1:\n",
            "Purchase_Frequency    6.05\n",
            "Rating                3.94\n",
            "dtype: float64\n",
            "Purchase Category distribution in Cluster 1:\n",
            "Product_Category\n",
            "Torans    37\n",
            "Name: count, dtype: int64\n",
            "\n",
            "\n",
            "Cluster 2 contains 23 data points\n",
            "Mean values for features in Cluster 2:\n",
            "Purchase_Frequency    5.70\n",
            "Rating                3.96\n",
            "dtype: float64\n",
            "Purchase Category distribution in Cluster 2:\n",
            "Product_Category\n",
            "Warli Art    23\n",
            "Name: count, dtype: int64\n",
            "\n",
            "\n",
            "Cluster 3 contains 53 data points\n",
            "Mean values for features in Cluster 3:\n",
            "Purchase_Frequency    4.77\n",
            "Rating                3.93\n",
            "dtype: float64\n",
            "Purchase Category distribution in Cluster 3:\n",
            "Product_Category\n",
            "Puja Samagri of Kumartuli    53\n",
            "Name: count, dtype: int64\n",
            "\n",
            "\n",
            "Cluster 4 contains 34 data points\n",
            "Mean values for features in Cluster 4:\n",
            "Purchase_Frequency    5.06\n",
            "Rating                3.91\n",
            "dtype: float64\n",
            "Purchase Category distribution in Cluster 4:\n",
            "Product_Category\n",
            "Madhubani Paintings    34\n",
            "Name: count, dtype: int64\n",
            "\n",
            "\n",
            "Cluster 5 contains 39 data points\n",
            "Mean values for features in Cluster 5:\n",
            "Purchase_Frequency    5.44\n",
            "Rating                3.86\n",
            "dtype: float64\n",
            "Purchase Category distribution in Cluster 5:\n",
            "Product_Category\n",
            "Rajasthani Puppets    39\n",
            "Name: count, dtype: int64\n",
            "\n",
            "\n",
            "Cluster 6 contains 26 data points\n",
            "Mean values for features in Cluster 6:\n",
            "Purchase_Frequency    5.42\n",
            "Rating                3.83\n",
            "dtype: float64\n",
            "Purchase Category distribution in Cluster 6:\n",
            "Product_Category\n",
            "Rangoli Colors    26\n",
            "Name: count, dtype: int64\n",
            "\n",
            "\n",
            "Cluster 7 contains 22 data points\n",
            "Mean values for features in Cluster 7:\n",
            "Purchase_Frequency    5.59\n",
            "Rating                3.94\n",
            "dtype: float64\n",
            "Purchase Category distribution in Cluster 7:\n",
            "Product_Category\n",
            "Mojaris    22\n",
            "Name: count, dtype: int64\n",
            "\n",
            "\n",
            "Cluster 8 contains 34 data points\n",
            "Mean values for features in Cluster 8:\n",
            "Purchase_Frequency    5.76\n",
            "Rating                3.91\n",
            "dtype: float64\n",
            "Purchase Category distribution in Cluster 8:\n",
            "Product_Category\n",
            "Terracotta Arts of Bishnupur    34\n",
            "Name: count, dtype: int64\n",
            "\n",
            "\n",
            "Cluster 9 contains 40 data points\n",
            "Mean values for features in Cluster 9:\n",
            "Purchase_Frequency    6.02\n",
            "Rating                3.82\n",
            "dtype: float64\n",
            "Purchase Category distribution in Cluster 9:\n",
            "Product_Category\n",
            "Pooja Thalis    40\n",
            "Name: count, dtype: int64\n",
            "\n",
            "\n",
            "Cluster 10 contains 30 data points\n",
            "Mean values for features in Cluster 10:\n",
            "Purchase_Frequency    5.13\n",
            "Rating                3.85\n",
            "dtype: float64\n",
            "Purchase Category distribution in Cluster 10:\n",
            "Product_Category\n",
            "Moya of Joynagar    30\n",
            "Name: count, dtype: int64\n",
            "\n",
            "\n",
            "Cluster 11 contains 48 data points\n",
            "Mean values for features in Cluster 11:\n",
            "Purchase_Frequency    4.62\n",
            "Rating                4.01\n",
            "dtype: float64\n",
            "Purchase Category distribution in Cluster 11:\n",
            "Product_Category\n",
            "Handicrafts of Santiniketan    48\n",
            "Name: count, dtype: int64\n",
            "\n",
            "\n",
            "Cluster 12 contains 29 data points\n",
            "Mean values for features in Cluster 12:\n",
            "Purchase_Frequency    4.45\n",
            "Rating                3.79\n",
            "dtype: float64\n",
            "Purchase Category distribution in Cluster 12:\n",
            "Product_Category\n",
            "Prayer Flags    29\n",
            "Name: count, dtype: int64\n",
            "\n",
            "\n",
            "Cluster 13 contains 24 data points\n",
            "Mean values for features in Cluster 13:\n",
            "Purchase_Frequency    5.58\n",
            "Rating                3.74\n",
            "dtype: float64\n",
            "Purchase Category distribution in Cluster 13:\n",
            "Product_Category\n",
            "Sarees    24\n",
            "Name: count, dtype: int64\n",
            "\n",
            "\n",
            "Cluster 14 contains 28 data points\n",
            "Mean values for features in Cluster 14:\n",
            "Purchase_Frequency    5.82\n",
            "Rating                4.01\n",
            "dtype: float64\n",
            "Purchase Category distribution in Cluster 14:\n",
            "Product_Category\n",
            "Ganesh Idols    28\n",
            "Name: count, dtype: int64\n",
            "\n",
            "\n",
            "Cluster 15 contains 0 data points\n",
            "Mean values for features in Cluster 15:\n",
            "Purchase_Frequency   NaN\n",
            "Rating               NaN\n",
            "dtype: float64\n",
            "Purchase Category distribution in Cluster 15:\n",
            "Series([], Name: count, dtype: int64)\n",
            "\n",
            "\n"
          ]
        }
      ],
      "source": [
        "for cluster_num in range(clustered_data['Cluster_DBSCAN'].nunique()):\n",
        "    cluster_data = clustered_data[clustered_data['Cluster_DBSCAN'] == cluster_num]\n",
        "    print(f\"Cluster {cluster_num} contains {len(cluster_data)} data points\")\n",
        "    # Mean values for features in each cluster (rounded to 2 decimal points)\n",
        "    print(\"Mean values for features in Cluster {}:\".format(cluster_num))\n",
        "    print(cluster_data[numerical_features].mean().round(2))\n",
        "\n",
        "    # Analyze the distribution of purchase categories in each cluster\n",
        "    print(f\"Purchase Category distribution in Cluster {cluster_num}:\")\n",
        "    category_distribution = cluster_data['Product_Category'].value_counts()\n",
        "    print(category_distribution)\n",
        "    print(\"\\n\")\n"
      ]
    }
  ]
}